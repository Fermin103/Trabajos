{
 "cells": [
  {
   "cell_type": "markdown",
   "metadata": {},
   "source": [
    "### LECCIÓN II: ESTRUCTURAS DE CONTROL"
   ]
  },
  {
   "cell_type": "markdown",
   "metadata": {},
   "source": [
    "**Heber Hernández Guerra, Ingeniero Civil de Minas, Relator Curso**  \n",
    "\n",
    "Contacto: heber@nubeminera.cl |https://github.com/heberallin |https://www.facebook.com/heberbluff"
   ]
  },
  {
   "cell_type": "markdown",
   "metadata": {},
   "source": [
    "En el presente notebook, revisaremos las siguientes estructuras de control:\n",
    "\n",
    "* if y sus derivaciones.\n",
    "* Bucle for #  un bucle es una sentencia que ejecuta repetidas veces un trozo de código.\n",
    "* Bucle while"
   ]
  },
  {
   "cell_type": "markdown",
   "metadata": {},
   "source": [
    "**I. Sentencia if, else, elif:** Si, Si no,  Si no si"
   ]
  },
  {
   "cell_type": "code",
   "execution_count": null,
   "metadata": {},
   "outputs": [],
   "source": [
    "a = 1\n",
    "\n",
    "if a > 4: # la primera linea es la condición.\n",
    "    print(\"Felicitaciones, usted ha aprobado el curso\") # la segunda es una instrucción y esta indentada.\n",
    "else: # si no se cumple la condición\n",
    "    print(\"Lo siento, pero ha reprobado el curso.\")"
   ]
  },
  {
   "cell_type": "code",
   "execution_count": null,
   "metadata": {},
   "outputs": [],
   "source": [
    "5%2 # residuo"
   ]
  },
  {
   "cell_type": "code",
   "execution_count": 1,
   "metadata": {},
   "outputs": [
    {
     "name": "stdout",
     "output_type": "stream",
     "text": [
      "11 es un numero impar.\n"
     ]
    }
   ],
   "source": [
    "x = 11\n",
    "if x % 2 == 0:\n",
    "    print(x, \"es un numero par\")\n",
    "else:\n",
    "    print(x, \"es un numero impar.\")"
   ]
  },
  {
   "cell_type": "markdown",
   "metadata": {},
   "source": [
    "**Veamos un ejemplo minero:** *integarndo ahora la sentencia elif*"
   ]
  },
  {
   "cell_type": "code",
   "execution_count": 2,
   "metadata": {},
   "outputs": [
    {
     "name": "stdout",
     "output_type": "stream",
     "text": [
      "El bloque es mineral\n"
     ]
    }
   ],
   "source": [
    "bloque = 1.2 #en este ejemplo conoceremos un operador logico que es \"and\", tambien existe \"or\" y \"not\"\n",
    "\n",
    "if bloque >=0 and bloque <0.5:\n",
    "    print(\"El bloque es esteril\")\n",
    "elif bloque >= 0.5 and bloque <1:\n",
    "    print(\"El bloque es baja ley\")\n",
    "elif bloque >= 1 and bloque <= 100:\n",
    "    print(\"El bloque es mineral\")\n",
    "else:\n",
    "    print(\"El valor del bloque esta mal estimado\")"
   ]
  },
  {
   "cell_type": "markdown",
   "metadata": {},
   "source": [
    "**II. Bucle o ciclo for:**"
   ]
  },
  {
   "cell_type": "code",
   "execution_count": 4,
   "metadata": {},
   "outputs": [],
   "source": [
    "lista = [1, 2, 3, 4, 5]"
   ]
  },
  {
   "cell_type": "code",
   "execution_count": 5,
   "metadata": {},
   "outputs": [
    {
     "name": "stdout",
     "output_type": "stream",
     "text": [
      "1\n",
      "2\n",
      "3\n",
      "4\n",
      "5\n"
     ]
    }
   ],
   "source": [
    "for x in lista:\n",
    "    print(x)"
   ]
  },
  {
   "cell_type": "code",
   "execution_count": 6,
   "metadata": {},
   "outputs": [],
   "source": [
    "cadena = \"hola\""
   ]
  },
  {
   "cell_type": "code",
   "execution_count": 7,
   "metadata": {},
   "outputs": [
    {
     "name": "stdout",
     "output_type": "stream",
     "text": [
      "h\n",
      "o\n",
      "l\n",
      "a\n"
     ]
    }
   ],
   "source": [
    "for x in cadena:\n",
    "    print(x)"
   ]
  },
  {
   "cell_type": "code",
   "execution_count": 8,
   "metadata": {},
   "outputs": [
    {
     "name": "stdout",
     "output_type": "stream",
     "text": [
      "0\n",
      "1\n",
      "2\n",
      "3\n",
      "4\n",
      "5\n",
      "6\n",
      "7\n",
      "8\n",
      "9\n"
     ]
    }
   ],
   "source": [
    "for y in range(10): # con una sentencia for tambien podemos recorrer un rango.\n",
    "    print(y)"
   ]
  },
  {
   "cell_type": "markdown",
   "metadata": {},
   "source": [
    "**III. Bucle while:** mientras"
   ]
  },
  {
   "cell_type": "code",
   "execution_count": 6,
   "metadata": {},
   "outputs": [
    {
     "name": "stdout",
     "output_type": "stream",
     "text": [
      "La variable es 1\n",
      "La variable es 2\n",
      "La variable es 3\n",
      "La variable es 4\n",
      "La variable es 5\n",
      "La variable es 6\n"
     ]
    }
   ],
   "source": [
    "variable = 0\n",
    "while variable <=5: # el bucle se repetira en base a esta condición.\n",
    "    variable+=1 # += , es un operador de asignación, suma a la variable del lado izquierdo el valor del lado derecho.\n",
    "    print(\"La variable es\", variable)"
   ]
  },
  {
   "cell_type": "code",
   "execution_count": 9,
   "metadata": {},
   "outputs": [
    {
     "name": "stdout",
     "output_type": "stream",
     "text": [
      "La variable es 1\n",
      "La variable es 2\n",
      "La variable es 3\n",
      "La variable es 4\n",
      "La variable es 5\n",
      "La variable es 6\n",
      "Fin del bucle\n"
     ]
    }
   ],
   "source": [
    "variable = 0\n",
    "while variable <=5:\n",
    "    variable+=1 # += , es un operador de asignación, suma a la variable del lado izquierdo el valor del lado derecho.\n",
    "    print(\"La variable es\", variable)\n",
    "else:\n",
    "    print(\"Fin del bucle\")"
   ]
  },
  {
   "cell_type": "code",
   "execution_count": 10,
   "metadata": {},
   "outputs": [
    {
     "name": "stdout",
     "output_type": "stream",
     "text": [
      "La variable es 1\n",
      "La variable es 2\n",
      "La variable es 3\n",
      "Se ha encontrado la solución\n"
     ]
    }
   ],
   "source": [
    "variable = 0 # Supongamos que la solución es encontrar el numero 3\n",
    "while variable <=5:\n",
    "    variable+=1 # += , es un operador de asignación, suma a la variable del lado izquierdo el valor del lado derecho.\n",
    "    print(\"La variable es\", variable)\n",
    "    if variable == 3:\n",
    "        print(\"Se ha encontrado la solución\")\n",
    "        break"
   ]
  }
 ],
 "metadata": {
  "kernelspec": {
   "display_name": "Python 3",
   "language": "python",
   "name": "python3"
  },
  "language_info": {
   "codemirror_mode": {
    "name": "ipython",
    "version": 3
   },
   "file_extension": ".py",
   "mimetype": "text/x-python",
   "name": "python",
   "nbconvert_exporter": "python",
   "pygments_lexer": "ipython3",
   "version": "3.7.0"
  }
 },
 "nbformat": 4,
 "nbformat_minor": 2
}
