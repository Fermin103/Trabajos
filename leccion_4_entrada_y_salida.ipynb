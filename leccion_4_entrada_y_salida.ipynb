{
 "cells": [
  {
   "cell_type": "markdown",
   "metadata": {},
   "source": [
    "# LECCIÓN IV: ENTRADA Y SALIDA"
   ]
  },
  {
   "cell_type": "markdown",
   "metadata": {},
   "source": [
    "**Heber Hernández Guerra, Ingeniero Civil de Minas, Relator Curso**  \n",
    "\n",
    "Contacto: heber@nubeminera.cl |https://github.com/heberallin |https://www.facebook.com/heberbluff"
   ]
  },
  {
   "cell_type": "markdown",
   "metadata": {},
   "source": [
    "### Entrada:\n",
    "#### Para explicar como funcionan las entradas, veremos un ejemplo acerca de la condición para la categorización: Coeficiente de variación [CV]\n",
    "* Si CV del bloque es < 25% : Medido\n",
    "* Si CV del bloque es >= 25% y <40% : Indicado\n",
    "* Si CV del bloque es >= 40%: Inferido\n",
    "\n",
    "**CV [%] = (𝜎 / μ)*100**"
   ]
  },
  {
   "cell_type": "code",
   "execution_count": 4,
   "metadata": {},
   "outputs": [],
   "source": [
    "from math import sqrt"
   ]
  },
  {
   "cell_type": "code",
   "execution_count": 5,
   "metadata": {},
   "outputs": [
    {
     "name": "stdout",
     "output_type": "stream",
     "text": [
      "Ingrese el valor estimado del bloque [Z*(x)]: 1.5\n",
      "Ingrese la varianza de estimación del bloque [var^2(x)]: 0.5\n",
      "CV del bloque:  47.14045207910317 %\n",
      "Bloque indicado\n"
     ]
    }
   ],
   "source": [
    "z=float(input(\"Ingrese el valor estimado del bloque [Z*(x)]: \"))\n",
    "var=float(input(\"Ingrese la varianza de estimación del bloque [var^2(x)]: \"))\n",
    "\n",
    "resultado=((sqrt(var))/z)*100\n",
    "print(\"CV del bloque: \", resultado, \"%\")\n",
    "if resultado < 25:\n",
    "    print(\"Bloque medido\")\n",
    "elif resultado >=25:\n",
    "    print(\"Bloque indicado\")\n",
    "elif resultado >=40:\n",
    "    print(\"Bloque inferido\")"
   ]
  },
  {
   "cell_type": "markdown",
   "metadata": {},
   "source": [
    "### Salida: sentencia print()\n",
    "**Sentencia print evalúa cada expresión, devuelve y escribe el objeto resultado a la salida estándar de la consola de comando.**"
   ]
  },
  {
   "cell_type": "markdown",
   "metadata": {},
   "source": [
    "*Como ya hemos visto en acción esta sentencia, veremos un agregado al print que es el format() de formateo.*\n",
    "* Formateo de numeros flotantes:"
   ]
  },
  {
   "cell_type": "code",
   "execution_count": 3,
   "metadata": {},
   "outputs": [],
   "source": [
    "numero = 5.123456"
   ]
  },
  {
   "cell_type": "code",
   "execution_count": 5,
   "metadata": {},
   "outputs": [
    {
     "name": "stdout",
     "output_type": "stream",
     "text": [
      "5.123456\n"
     ]
    }
   ],
   "source": [
    "print(numero) # pero queremos que solo muestre 2 decimales."
   ]
  },
  {
   "cell_type": "code",
   "execution_count": 8,
   "metadata": {},
   "outputs": [
    {
     "name": "stdout",
     "output_type": "stream",
     "text": [
      "5.12\n"
     ]
    }
   ],
   "source": [
    "print(\"{:.2f}\".format(numero)) # primero \"{}\" segundo \"{:}\" tercero \"{:.2f}\""
   ]
  }
 ],
 "metadata": {
  "kernelspec": {
   "display_name": "Python 3",
   "language": "python",
   "name": "python3"
  },
  "language_info": {
   "codemirror_mode": {
    "name": "ipython",
    "version": 3
   },
   "file_extension": ".py",
   "mimetype": "text/x-python",
   "name": "python",
   "nbconvert_exporter": "python",
   "pygments_lexer": "ipython3",
   "version": "3.7.0"
  }
 },
 "nbformat": 4,
 "nbformat_minor": 2
}
