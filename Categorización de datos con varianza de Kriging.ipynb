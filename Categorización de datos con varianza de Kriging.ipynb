{
 "cells": [
  {
   "cell_type": "markdown",
   "metadata": {},
   "source": [
    "## CATEGORIZACIÓN DE DATOS MEDIANTE VARIANZA DE ESTIMACIÓN DE KRIGING"
   ]
  },
  {
   "cell_type": "markdown",
   "metadata": {},
   "source": [
    "**Heber Hernández Guerra, Ingeniero Civil de Minas, Relator Curso GLAM Nube Minera**  \n",
    "\n",
    "Contacto: heber.hernandez@nubeminera.cl | https://github.com/heberallin | http://nubeminera.cl/contacto | https://www.facebook.com/heberbluff"
   ]
  },
  {
   "cell_type": "markdown",
   "metadata": {},
   "source": [
    "El presente notebook, viene a explicar de manera básica, como funciona la categorización de recursos minerales a través de la varianza de estimación de Kriging. Se recomienda leer con anterioridad el siguiente articulo:\n",
    "* [Leer articulo aqúi](https://nubeminera.cl/categorizacion-de-recursos-minerales-a-traves-de-la-varianza-de-estimacion-del-kriging-simple/)"
   ]
  },
  {
   "cell_type": "markdown",
   "metadata": {},
   "source": [
    "#### Creando una lista con resultados hipoteticos de una estimación: Z*(x)\n",
    "* Ley estimada bloque A: 1% Cu\n",
    "* Ley estimada bloque B: 2% Cu\n",
    "* Ley estimada bloque C: 3% Cu"
   ]
  },
  {
   "cell_type": "code",
   "execution_count": 1,
   "metadata": {},
   "outputs": [],
   "source": [
    "from math import sqrt"
   ]
  },
  {
   "cell_type": "code",
   "execution_count": 2,
   "metadata": {},
   "outputs": [],
   "source": [
    "bloques=[1, 2, 3]"
   ]
  },
  {
   "cell_type": "markdown",
   "metadata": {},
   "source": [
    "#### Creando una lista con resultados hipoteticos de una varianza de estimación: 𝜎²(x)\n",
    "* Ley estimada bloque A: 0.0025\n",
    "* Ley estimada bloque B: 0.25\n",
    "* Ley estimada bloque C: 1.44"
   ]
  },
  {
   "cell_type": "code",
   "execution_count": 3,
   "metadata": {},
   "outputs": [],
   "source": [
    "varianza=[0.0025, 0.25, 1.44]"
   ]
  },
  {
   "cell_type": "markdown",
   "metadata": {},
   "source": [
    "#### Condición para la categorización: Coeficiente de variación [CV]\n",
    "* Si CV del bloque es < 25% : Medido\n",
    "* Si CV del bloque es >= 25% y <40% : Indicado\n",
    "* Si CV del bloque es >= 40%: Inferido\n",
    "\n",
    "**CV [%] = (𝜎 / μ)*100**"
   ]
  },
  {
   "cell_type": "markdown",
   "metadata": {},
   "source": [
    "**Bloque 1:**"
   ]
  },
  {
   "cell_type": "code",
   "execution_count": 4,
   "metadata": {},
   "outputs": [
    {
     "name": "stdout",
     "output_type": "stream",
     "text": [
      "CV bloque 1:  5.0 % Recurso medido\n"
     ]
    }
   ],
   "source": [
    "cv1=((sqrt(varianza[0]))/bloques[0])\n",
    "print(\"CV bloque 1: \", float(cv1*100), \"%\", \"Recurso medido\")"
   ]
  },
  {
   "cell_type": "markdown",
   "metadata": {},
   "source": [
    "**Bloque 2:**"
   ]
  },
  {
   "cell_type": "code",
   "execution_count": 5,
   "metadata": {},
   "outputs": [
    {
     "name": "stdout",
     "output_type": "stream",
     "text": [
      "CV bloque 2:  25.0 % Recurso indicado\n"
     ]
    }
   ],
   "source": [
    "cv2=((sqrt(varianza[1]))/bloques[1])\n",
    "print(\"CV bloque 2: \", float(cv2*100), \"%\", \"Recurso indicado\")"
   ]
  },
  {
   "cell_type": "markdown",
   "metadata": {},
   "source": [
    "**Bloque 3:**"
   ]
  },
  {
   "cell_type": "code",
   "execution_count": 6,
   "metadata": {},
   "outputs": [
    {
     "name": "stdout",
     "output_type": "stream",
     "text": [
      "CV bloque 3:  40.0 % Recurso inferido\n"
     ]
    }
   ],
   "source": [
    "cv3=((sqrt(varianza[2]))/bloques[2])\n",
    "print(\"CV bloque 3: \", float(cv3*100), \"%\", \"Recurso inferido\")"
   ]
  },
  {
   "cell_type": "markdown",
   "metadata": {},
   "source": [
    "#### Entenderemos que la categorización hasta este punto solicita 2 variables resultantes del Kriging: Z*(x) y 𝜎²(x)\n",
    "*Generemos algunas iteraciones:*"
   ]
  },
  {
   "cell_type": "code",
   "execution_count": 10,
   "metadata": {},
   "outputs": [
    {
     "name": "stdout",
     "output_type": "stream",
     "text": [
      "Ingrese el valor estimado del bloque [Z*(x)]: 1\n",
      "Ingrese la varianza de estimación del bloque [var^2(x)]: 0.0025\n",
      "CV del bloque:  5.0 %\n",
      "Bloque medido\n"
     ]
    }
   ],
   "source": [
    "z=float(input(\"Ingrese el valor estimado del bloque [Z*(x)]: \"))\n",
    "var=float(input(\"Ingrese la varianza de estimación del bloque [var^2(x)]: \"))\n",
    "\n",
    "resultado=((sqrt(var))/z)*100\n",
    "print(\"CV del bloque: \", resultado, \"%\")\n",
    "if resultado < 25:\n",
    "    print(\"Bloque medido\")\n",
    "elif resultado >=25:\n",
    "    print(\"Bloque indicado\")\n",
    "elif resultado >=40:\n",
    "    print(\"Bloque inferido\")"
   ]
  },
  {
   "attachments": {},
   "cell_type": "markdown",
   "metadata": {},
   "source": [
    "#### También podemos ingresar un nivel de confianza asumiendo una distribución normal:\n",
    "* 95 % de confianza = 1.96\n",
    "* 90 % de confianza = 1.64\n",
    "* 85 % de confianza = 1.44\n",
    "\n",
    "**CV [%] = (𝜎* αf/ μ)*100**"
   ]
  },
  {
   "cell_type": "code",
   "execution_count": null,
   "metadata": {},
   "outputs": [],
   "source": [
    "z=float(input(\"Ingrese el valor estimado del bloque [Z*(x)]: \"))\n",
    "var=float(input(\"Ingrese la varianza de estimación del bloque [var^2(x)]: \"))\n",
    "conf=float(input(\"Ingrese el nivel de confianza: \"))\n",
    "\n",
    "resultado=(((sqrt(var))*conf)/z)*100\n",
    "print(\"CV del bloque: \", resultado, \"%\")\n",
    "if resultado < 25:\n",
    "    print(\"Bloque medido\")\n",
    "elif resultado >=25:\n",
    "    print(\"Bloque indicado\")\n",
    "elif resultado >=40:\n",
    "    print(\"Bloque inferido\")"
   ]
  }
 ],
 "metadata": {
  "kernelspec": {
   "display_name": "Python 3",
   "language": "python",
   "name": "python3"
  },
  "language_info": {
   "codemirror_mode": {
    "name": "ipython",
    "version": 3
   },
   "file_extension": ".py",
   "mimetype": "text/x-python",
   "name": "python",
   "nbconvert_exporter": "python",
   "pygments_lexer": "ipython3",
   "version": "3.7.0"
  }
 },
 "nbformat": 4,
 "nbformat_minor": 2
}
