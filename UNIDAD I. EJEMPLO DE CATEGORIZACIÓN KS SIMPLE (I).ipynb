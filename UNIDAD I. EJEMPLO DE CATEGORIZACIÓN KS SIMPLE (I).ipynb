{
 "cells": [
  {
   "cell_type": "markdown",
   "metadata": {},
   "source": [
    "### EJEMPLO MANUAL DE CATEGORIZACIÓN POR ERROR RELATIVO DE KRIGING SIMPLE"
   ]
  },
  {
   "cell_type": "markdown",
   "metadata": {},
   "source": [
    "En este ejemplo revisaremos el formulismo estudiado en capsulas anteriores, respecto al método de categorización por error relativo de kriging simple."
   ]
  },
  {
   "cell_type": "markdown",
   "metadata": {},
   "source": [
    "*H. Hernández G. Curso CRMVK, Nube Minera, 2019.*"
   ]
  },
  {
   "cell_type": "markdown",
   "metadata": {},
   "source": [
    "**I. Información de las muestras y modelo variografico:**"
   ]
  },
  {
   "cell_type": "code",
   "execution_count": 1,
   "metadata": {},
   "outputs": [
    {
     "data": {
      "text/html": [
       "<div>\n",
       "<style scoped>\n",
       "    .dataframe tbody tr th:only-of-type {\n",
       "        vertical-align: middle;\n",
       "    }\n",
       "\n",
       "    .dataframe tbody tr th {\n",
       "        vertical-align: top;\n",
       "    }\n",
       "\n",
       "    .dataframe thead th {\n",
       "        text-align: right;\n",
       "    }\n",
       "</style>\n",
       "<table border=\"1\" class=\"dataframe\">\n",
       "  <thead>\n",
       "    <tr style=\"text-align: right;\">\n",
       "      <th></th>\n",
       "      <th>este</th>\n",
       "      <th>norte</th>\n",
       "      <th>variable</th>\n",
       "    </tr>\n",
       "  </thead>\n",
       "  <tbody>\n",
       "    <tr>\n",
       "      <th>m1</th>\n",
       "      <td>15</td>\n",
       "      <td>25</td>\n",
       "      <td>1.0</td>\n",
       "    </tr>\n",
       "    <tr>\n",
       "      <th>m2</th>\n",
       "      <td>19</td>\n",
       "      <td>30</td>\n",
       "      <td>2.0</td>\n",
       "    </tr>\n",
       "    <tr>\n",
       "      <th>z*(x)</th>\n",
       "      <td>18</td>\n",
       "      <td>27</td>\n",
       "      <td>NaN</td>\n",
       "    </tr>\n",
       "  </tbody>\n",
       "</table>\n",
       "</div>"
      ],
      "text/plain": [
       "       este  norte  variable\n",
       "m1       15     25       1.0\n",
       "m2       19     30       2.0\n",
       "z*(x)    18     27       NaN"
      ]
     },
     "execution_count": 1,
     "metadata": {},
     "output_type": "execute_result"
    }
   ],
   "source": [
    "import pandas as pd\n",
    "import numpy as np\n",
    "\n",
    "datos = {'este': [15,19,18], 'norte': [25,30,27], 'variable': [1,2,np.nan]}\n",
    "df = pd.DataFrame(data=datos)\n",
    "df.rename(index={0:'m1', 1:'m2', 2:'z*(x)'}, inplace=True)\n",
    "df.head()"
   ]
  },
  {
   "cell_type": "code",
   "execution_count": 3,
   "metadata": {},
   "outputs": [
    {
     "data": {
      "image/png": "[encoded data removed]",
      "text/plain": [
       "<Figure size 432x288 with 1 Axes>"
      ]
     },
     "metadata": {
      "needs_background": "light"
     },
     "output_type": "display_data"
    }
   ],
   "source": [
    "import matplotlib.pyplot as plt\n",
    "\n",
    "x = df['este']\n",
    "y = df['norte']\n",
    "z = df['variable']\n",
    "\n",
    "fig, ax = plt.subplots()\n",
    "ax.scatter(x,y,marker='x', s=30, c='black', label='media= 4.0, g(h) = 0.1 + 0.9 esf (h/20)')\n",
    "\n",
    "for i, txt in enumerate(z):\n",
    "    ax.annotate(txt, (x[i], y[i]))\n",
    "    \n",
    "plt.title('ubicación mi & z*(x)')\n",
    "plt.legend(loc='upper left')\n",
    "plt.grid()"
   ]
  },
  {
   "cell_type": "markdown",
   "metadata": {},
   "source": [
    "**II. Preparación del modelo de covarianzas para Kriging Simple:**"
   ]
  },
  {
   "cell_type": "code",
   "execution_count": 4,
   "metadata": {},
   "outputs": [],
   "source": [
    "#Distancias:\n",
    "\n",
    "m1m1 = 0\n",
    "m1m2 = np.sqrt((19-15)**2 + (30-25)**2)\n",
    "m1z = np.sqrt((18-15)**2 + (27-25)**2)\n",
    "m2m1 = np.sqrt((19-15)**2 + (30-25)**2)\n",
    "m2m2 = 0\n",
    "m2z = np.sqrt((19-18)**2 + (30-27)**2)\n",
    "\n",
    "#Semivarianzas: 0.1 + 0.9 esf (h/20)\n",
    "\n",
    "a = 20\n",
    "c0 = 0.1\n",
    "c1 = 0.9\n",
    "ct = c0 + c1\n",
    "\n",
    "g_m1m1 = 0 #por propiedad del variograma si h= 0; gamma(h) = 0\n",
    "g_m1m2 = (((1.5*m1m2/a) - (0.5*(m1m2/a)**3))*c1)+c0\n",
    "g_m1z = (((1.5*m1z/a) - (0.5*(m1z/a)**3))*c1)+c0\n",
    "g_m2m1 = (((1.5*m1m2/a) - (0.5*(m1m2/a)**3))*c1)+c0\n",
    "g_m2m2 = 0\n",
    "g_m2z = (((1.5*m2z/a) - (0.5*(m2z/a)**3))*c1)+c0\n",
    "\n",
    "#Covarianzas = c(h): ct - gamma(h)\n",
    "\n",
    "c_m1m1 = ct - g_m1m1\n",
    "c_m1m2 = ct - g_m1m2\n",
    "c_m1z = ct - g_m1z\n",
    "c_m2m1 = ct - g_m2m1\n",
    "c_m2m2 = ct - g_m2m2\n",
    "c_m2z = ct - g_m2z"
   ]
  },
  {
   "cell_type": "markdown",
   "metadata": {},
   "source": [
    "**III. Solución del sistema de ecuaciones de KS:**"
   ]
  },
  {
   "cell_type": "code",
   "execution_count": 5,
   "metadata": {},
   "outputs": [
    {
     "data": {
      "text/plain": [
       "array([0.42639741, 0.48256428])"
      ]
     },
     "execution_count": 5,
     "metadata": {},
     "output_type": "execute_result"
    }
   ],
   "source": [
    "ma =np.array([[c_m1m1, c_m1m2], [c_m2m1, c_m2m2]])\n",
    "mb = np.array([c_m1z, c_m2z])\n",
    "\n",
    "ms = np.linalg.solve(ma,mb)\n",
    "ms"
   ]
  },
  {
   "cell_type": "markdown",
   "metadata": {},
   "source": [
    "**IV. Categorización de z*(x):**"
   ]
  },
  {
   "cell_type": "code",
   "execution_count": 12,
   "metadata": {},
   "outputs": [
    {
     "name": "stdout",
     "output_type": "stream",
     "text": [
      "CV: 0.69 equivalente a un punto inferido con un 95% de confianza\n"
     ]
    }
   ],
   "source": [
    "a = ms[0]\n",
    "b= ms[1]\n",
    "c = (1-(a+b))\n",
    "\n",
    "m1 = 1\n",
    "m2 = 2\n",
    "mg = 4\n",
    "\n",
    "zx = ((a*m1) + (b*m2) + (c*mg))\n",
    "zx0 = round(zx, 3)\n",
    "\n",
    "var = ct - ((a*c_m1z) + (b*c_m2z))\n",
    "\n",
    "des = np.sqrt(var)\n",
    "\n",
    "cv = (des*1.96)/zx0\n",
    "\n",
    "if cv > 0.5:\n",
    "    print(\"CV:\", round(cv,2), \"equivalente a un punto inferido con un 95% de confianza\")\n",
    "elif cv < 0.25:\n",
    "    print(\"CV:\", round(cv,2),\"equivalente a un punto medido con un 95% de confianza\")\n",
    "else:\n",
    "    print(\"CV:\", round(cv,2),\"equivalente a un punto indicado con un 95% de confianza\")"
   ]
  }
 ],
 "metadata": {
  "kernelspec": {
   "display_name": "Python 3",
   "language": "python",
   "name": "python3"
  },
  "language_info": {
   "codemirror_mode": {
    "name": "ipython",
    "version": 3
   },
   "file_extension": ".py",
   "mimetype": "text/x-python",
   "name": "python",
   "nbconvert_exporter": "python",
   "pygments_lexer": "ipython3",
   "version": "3.7.0"
  }
 },
 "nbformat": 4,
 "nbformat_minor": 2
}
