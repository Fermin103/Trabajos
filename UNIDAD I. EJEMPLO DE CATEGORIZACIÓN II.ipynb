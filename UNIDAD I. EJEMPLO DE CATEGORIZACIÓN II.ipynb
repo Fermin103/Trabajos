{
 "cells": [
  {
   "cell_type": "markdown",
   "metadata": {},
   "source": [
    "### EJEMPLO MANUAL DE CATEGORIZACIÓN  POR ERROR RELATIVO DE KRIGING ORDINARIO DE BLOQUES."
   ]
  },
  {
   "cell_type": "markdown",
   "metadata": {},
   "source": [
    "En este notebook se **APLICA** el formulismo de **KRIGING DE BLOQUES**, para exponer un ejemplo de categorización, mediante la metodología denominada **\"ERROR RELATIVO DE KRIGING\"**. \n",
    "\n",
    "1. Se entendera que el ejemplo corresponde a un corte 2D de un bloque de medidas 20 x 20 x 20 metros.\n",
    "2. Las muestras para trabajar la estimación del bloque, son a nivel puntual y corresponden a un total de tres.\n",
    "3. La alternativa de kriging en este caso, es la denominada \"Ordinario\", la que trabaja desconociendo la media global.\n",
    "4. Se calcula el error relativo de kriging tanto con \"semivarianzas\" como con \"covarianzas\" para comparar formulismo.\n",
    "5. El codigo esta escrito para poder variar la posición de las muestras, sus respectivos valores  y el modelo estructrural. No asi las dimensiones del bloque. \n",
    "6. La categorización se realiza mediante el coeficiente de variación de KO con un 95% de nivel de confianza y bajo un supuesto de distribución normal.\n",
    "\n",
    "*Escrito por H. Hernández G. Curso CRMVK, Nube Minera (2019).*\n",
    "\n",
    "*Enlace curso:* https://nubeminera.cl/course/categorizacion-de-recursos-por-varianza-de-kriging-en-python-crp/\n",
    "\n",
    "*Bibliografía:* Oliver, Margaret A. (2015) **Basic Steps in Geostatistics: The Variogram and Kriging**. New York. Springer."
   ]
  },
  {
   "cell_type": "code",
   "execution_count": 2,
   "metadata": {},
   "outputs": [],
   "source": [
    "#Requerimientos: \n",
    "\n",
    "import pandas as pd #Biblioteca utilizada para el manejo de datos en tablas.\n",
    "import numpy as np #Biblioteca utilizada para la operación de matemática. \n",
    "import matplotlib.pyplot as plt #Biblioteca utilizada para la salida visual de datos.\n",
    "from matplotlib.patches import Rectangle #Alternativa de Matplotlib para visualizar figuras 2D."
   ]
  },
  {
   "cell_type": "markdown",
   "metadata": {},
   "source": [
    "**I. Información del bloque y las muestras:**"
   ]
  },
  {
   "cell_type": "code",
   "execution_count": 8,
   "metadata": {},
   "outputs": [
    {
     "data": {
      "image/png": "[encoded data removed]",
      "text/plain": [
       "<Figure size 432x432 with 1 Axes>"
      ]
     },
     "metadata": {
      "needs_background": "light"
     },
     "output_type": "display_data"
    }
   ],
   "source": [
    "X, Y = 0.4, 0.4 #coordenadas de origen del bloque (corte en 2D).\n",
    "\n",
    "plt.figure(figsize=(6,6)) #Figura en donde se alojara el bloque y las muestras.\n",
    "ejeactual = plt.gca()\n",
    "ejeactual.add_patch(Rectangle((X , Y), 0.2, 0.2, fill=True, alpha=1)) #se proyecta un cuadrado de 0.2 x 0.2 desde X,Y. (*100)\n",
    "\n",
    "plt.title(\"Disposición espacial corte bloque 2D\")\n",
    "plt.grid(True) #Generación de una cuadricula en la figura.\n",
    "plt.text(0.45,0.5, \"Z*(b)\")\n",
    "plt.xlabel(\"Este [X]\")\n",
    "plt.ylabel(\"Norte [Y]\")\n",
    "plt.show()"
   ]
  },
  {
   "cell_type": "code",
   "execution_count": 9,
   "metadata": {},
   "outputs": [
    {
     "data": {
      "text/html": [
       "<div>\n",
       "<style scoped>\n",
       "    .dataframe tbody tr th:only-of-type {\n",
       "        vertical-align: middle;\n",
       "    }\n",
       "\n",
       "    .dataframe tbody tr th {\n",
       "        vertical-align: top;\n",
       "    }\n",
       "\n",
       "    .dataframe thead th {\n",
       "        text-align: right;\n",
       "    }\n",
       "</style>\n",
       "<table border=\"1\" class=\"dataframe\">\n",
       "  <thead>\n",
       "    <tr style=\"text-align: right;\">\n",
       "      <th></th>\n",
       "      <th>X</th>\n",
       "      <th>Y</th>\n",
       "      <th>L</th>\n",
       "    </tr>\n",
       "  </thead>\n",
       "  <tbody>\n",
       "    <tr>\n",
       "      <th>m1</th>\n",
       "      <td>0.5</td>\n",
       "      <td>0.5</td>\n",
       "      <td>5.0</td>\n",
       "    </tr>\n",
       "    <tr>\n",
       "      <th>m2</th>\n",
       "      <td>0.6</td>\n",
       "      <td>0.4</td>\n",
       "      <td>7.0</td>\n",
       "    </tr>\n",
       "    <tr>\n",
       "      <th>m3</th>\n",
       "      <td>0.2</td>\n",
       "      <td>0.2</td>\n",
       "      <td>15.0</td>\n",
       "    </tr>\n",
       "    <tr>\n",
       "      <th>Z*(b)</th>\n",
       "      <td>NaN</td>\n",
       "      <td>NaN</td>\n",
       "      <td>NaN</td>\n",
       "    </tr>\n",
       "  </tbody>\n",
       "</table>\n",
       "</div>"
      ],
      "text/plain": [
       "         X    Y     L\n",
       "m1     0.5  0.5   5.0\n",
       "m2     0.6  0.4   7.0\n",
       "m3     0.2  0.2  15.0\n",
       "Z*(b)  NaN  NaN   NaN"
      ]
     },
     "execution_count": 9,
     "metadata": {},
     "output_type": "execute_result"
    }
   ],
   "source": [
    "m1 = 5 #valor muestra 1\n",
    "m2 = 7 #valor muestra 2\n",
    "m3 = 15 #valor muestra 3\n",
    "\n",
    "#Dataframe para ordenar las muestras.\n",
    "\n",
    "datos = {'X': [0.5,0.6,0.2,np.nan], 'Y': [0.5,0.4,0.2,np.nan], 'L': [m1,m2,m3,np.nan]}\n",
    "df = pd.DataFrame(data=datos)\n",
    "df.rename(index={0:'m1', 1:'m2', 2:'m3', 3:'Z*(b)'}, inplace=True)\n",
    "#X = Este\n",
    "#Y = Norte\n",
    "#L = Valor de la variable\n",
    "#Z*(b) = Valor medio del bloque, no posee una posición puntual. \n",
    "df.head()"
   ]
  },
  {
   "cell_type": "code",
   "execution_count": 12,
   "metadata": {},
   "outputs": [
    {
     "data": {
      "image/png": "[encoded data removed]",
      "text/plain": [
       "<Figure size 432x432 with 1 Axes>"
      ]
     },
     "metadata": {
      "needs_background": "light"
     },
     "output_type": "display_data"
    }
   ],
   "source": [
    "X, Y = 0.4, 0.4 #coordenadas de origen del bloque (corte en 2D)\n",
    "\n",
    "plt.figure(figsize=(6,6)) #Creamos una figura\n",
    "ejeactual = plt.gca()\n",
    "ejeactual.add_patch(Rectangle((X , Y), 0.2, 0.2, fill=True, alpha=0.4)) #se proyecta un cuadrado de 0.2 x 0.2 desde X,Y.\n",
    "\n",
    "#Muestras puntuales:\n",
    "ejeactual.scatter(df[\"X\"],df[\"Y\"], marker=\"x\", c=\"r\", s=100) #muestras mi\n",
    "\n",
    "#Discretización del bloque en 4 nodos:\n",
    "ejeactual.scatter(0.45,0.45, marker=\"x\", c=\"b\", s=70) #nodo 1\n",
    "ejeactual.scatter(0.45,0.55, marker=\"x\", c=\"b\", s=70) #nodo 2\n",
    "ejeactual.scatter(0.55,0.45, marker=\"x\", c=\"b\", s=70) #nodo 3\n",
    "ejeactual.scatter(0.55,0.55, marker=\"x\", c=\"b\", s=70) #nodo 4\n",
    "\n",
    "plt.title(\"Disposición espacial corte bloque 2D y muestras\")\n",
    "plt.text(0.52,0.49, \"m1\")\n",
    "plt.text(0.6,0.38, \"m2\")\n",
    "plt.text(0.22,0.19, \"m3\")\n",
    "plt.text(0.45,0.46, \"n1\")\n",
    "plt.text(0.45,0.56, \"n2\")\n",
    "plt.text(0.55,0.46, \"n3\")\n",
    "plt.text(0.55,0.56, \"n4\")\n",
    "plt.grid(False)\n",
    "plt.show()"
   ]
  },
  {
   "cell_type": "markdown",
   "metadata": {},
   "source": [
    "**II. Modelo estructural:** G(h) = 0.1 + 0.9 esf(0.8 m)**, y obtención de semivarianzas (punto - punto, punto - volumen).**"
   ]
  },
  {
   "cell_type": "code",
   "execution_count": 13,
   "metadata": {},
   "outputs": [],
   "source": [
    "#Z*(b) = m1a1 + m2a2 + m3a3 ; *b = bloque; mi = muestras ; ai = pesos de las mi*\n",
    "# G(h) = 0.1 + 0.9 esf(0.8 m), se entiende como isotropico el modelo.\n",
    "\n",
    "c0 = 0.1 #efecto pepita\n",
    "c1 = 0.9 #semivarianza estructura esferica \n",
    "ct = c0+c1\n",
    "\n",
    "a = 0.8 #alcance del semivariograma\n",
    "\n",
    "#Sistema de Kriging Ordinario Punto - Volumen:\n",
    "\n",
    "#a1*g1_1 + a2*g1_2 + a3*g1_3 + u = g1_b\n",
    "#a1*g2_1 + a2*g2_2 + a3*g2_3 + u = g2_b\n",
    "#a1*g3_1 + a2*g3_2 + a3*g3_3 + u = g3_b\n",
    "#a1 + a2 + a3  = 1\n",
    "\n",
    "#Las semivarianzas muestra- muestra (punto - punto), se entenderan como \"gi_j\".\n",
    "g1_1 = 0 # por propiedad del semivariograma\n",
    "m1m2 = np.sqrt((df.iloc[0,0] - df.iloc[1,0])**2 + (df.iloc[0,1] - df.iloc[1,1])**2) \n",
    "\n",
    "#iloc señala la posición de fila, columna en el df\n",
    "g1_2 = (((1.5*m1m2/a) - (0.5*(m1m2/a)**3))*c1)+c0\n",
    "m1m3 = np.sqrt((df.iloc[0,0] - df.iloc[2,0])**2 + (df.iloc[0,1] - df.iloc[2,1])**2)\n",
    "g1_3 = (((1.5*m1m3/a) - (0.5*(m1m3/a)**3))*c1)+c0\n",
    "g2_1 = g1_2\n",
    "g2_2 = g1_1\n",
    "m2m3 = np.sqrt((df.iloc[1,0] - df.iloc[2,0])**2 + (df.iloc[1,1] - df.iloc[2,1])**2)\n",
    "g2_3 = (((1.5*m2m3/a) - (0.5*(m2m3/a)**3))*c1)+c0\n",
    "g3_1 = g1_3\n",
    "g3_2 = g2_3\n",
    "g3_3 = g1_1"
   ]
  },
  {
   "cell_type": "markdown",
   "metadata": {},
   "source": [
    "**III. Estimación Z*(b) para el bloque (corte 2D) discretizado en 4 nodos:**"
   ]
  },
  {
   "cell_type": "code",
   "execution_count": 7,
   "metadata": {},
   "outputs": [
    {
     "data": {
      "text/html": [
       "<div>\n",
       "<style scoped>\n",
       "    .dataframe tbody tr th:only-of-type {\n",
       "        vertical-align: middle;\n",
       "    }\n",
       "\n",
       "    .dataframe tbody tr th {\n",
       "        vertical-align: top;\n",
       "    }\n",
       "\n",
       "    .dataframe thead th {\n",
       "        text-align: right;\n",
       "    }\n",
       "</style>\n",
       "<table border=\"1\" class=\"dataframe\">\n",
       "  <thead>\n",
       "    <tr style=\"text-align: right;\">\n",
       "      <th></th>\n",
       "      <th>X</th>\n",
       "      <th>Y</th>\n",
       "    </tr>\n",
       "  </thead>\n",
       "  <tbody>\n",
       "    <tr>\n",
       "      <th>n1</th>\n",
       "      <td>0.45</td>\n",
       "      <td>0.45</td>\n",
       "    </tr>\n",
       "    <tr>\n",
       "      <th>n2</th>\n",
       "      <td>0.45</td>\n",
       "      <td>0.55</td>\n",
       "    </tr>\n",
       "    <tr>\n",
       "      <th>n3</th>\n",
       "      <td>0.55</td>\n",
       "      <td>0.45</td>\n",
       "    </tr>\n",
       "    <tr>\n",
       "      <th>n4</th>\n",
       "      <td>0.55</td>\n",
       "      <td>0.55</td>\n",
       "    </tr>\n",
       "  </tbody>\n",
       "</table>\n",
       "</div>"
      ],
      "text/plain": [
       "       X     Y\n",
       "n1  0.45  0.45\n",
       "n2  0.45  0.55\n",
       "n3  0.55  0.45\n",
       "n4  0.55  0.55"
      ]
     },
     "execution_count": 7,
     "metadata": {},
     "output_type": "execute_result"
    }
   ],
   "source": [
    "nodos = {'X': [0.45,0.45,0.55,0.55], 'Y': [0.45,0.55,0.45,0.55]}\n",
    "dfn = pd.DataFrame(data=nodos)\n",
    "dfn.rename(index={0:'n1', 1:'n2', 2:'n3', 3:'n4'}, inplace=True)\n",
    "dfn.head()"
   ]
  },
  {
   "cell_type": "code",
   "execution_count": 15,
   "metadata": {},
   "outputs": [
    {
     "name": "stdout",
     "output_type": "stream",
     "text": [
      "Condición de insesgo lineal: 1.0\n"
     ]
    }
   ],
   "source": [
    "# distancias mi a ni:\n",
    "\n",
    "# 0.45,0.45 nodo 1\n",
    "# 0.45,0.55 nodo 2\n",
    "# 0.55,0.45 nodo 3\n",
    "# 0.55,0.55 nodo 4\n",
    "\n",
    "# 0.5,0.5 muestra 1\n",
    "# 0.6,0.4 muestra 2\n",
    "# 0.2,0.2 muestra 3\n",
    "\n",
    "nodos = {'X': [0.45,0.45,0.55,0.55], 'Y': [0.45,0.55,0.45,0.55]}\n",
    "dfn = pd.DataFrame(data=nodos)\n",
    "dfn.rename(index={0:'n1', 1:'n2', 2:'n3', 3:'n4'}, inplace=True)\n",
    "\n",
    "m1n1 = np.sqrt((df.iloc[0,0] - dfn.iloc[0,0])**2 + (df.iloc[0,1] - dfn.iloc[0,1])**2)\n",
    "m1n2 = np.sqrt((df.iloc[0,0] - dfn.iloc[1,0])**2 + (df.iloc[0,1] - dfn.iloc[1,1])**2)\n",
    "m1n3 = np.sqrt((df.iloc[0,0] - dfn.iloc[2,0])**2 + (df.iloc[0,1] - dfn.iloc[2,1])**2)\n",
    "m1n4 = np.sqrt((df.iloc[0,0] - dfn.iloc[3,0])**2 + (df.iloc[0,1] - dfn.iloc[3,1])**2)\n",
    "\n",
    "m2n1 = np.sqrt((df.iloc[1,0] - dfn.iloc[0,0])**2 + (df.iloc[1,1] - dfn.iloc[0,1])**2)\n",
    "m2n2 = np.sqrt((df.iloc[1,0] - dfn.iloc[1,0])**2 + (df.iloc[1,1] - dfn.iloc[1,1])**2)\n",
    "m2n3 = np.sqrt((df.iloc[1,0] - dfn.iloc[2,0])**2 + (df.iloc[1,1] - dfn.iloc[2,1])**2)\n",
    "m2n4 = np.sqrt((df.iloc[1,0] - dfn.iloc[3,0])**2 + (df.iloc[1,1] - dfn.iloc[3,1])**2)\n",
    "\n",
    "m3n1 = np.sqrt((df.iloc[2,0] - dfn.iloc[0,0])**2 + (df.iloc[2,1] - dfn.iloc[0,1])**2)\n",
    "m3n2 = np.sqrt((df.iloc[2,0] - dfn.iloc[1,0])**2 + (df.iloc[2,1] - dfn.iloc[1,1])**2)\n",
    "m3n3 = np.sqrt((df.iloc[2,0] - dfn.iloc[2,0])**2 + (df.iloc[2,1] - dfn.iloc[2,1])**2)\n",
    "m3n4 = np.sqrt((df.iloc[2,0] - dfn.iloc[3,0])**2 + (df.iloc[2,1] - dfn.iloc[3,1])**2)\n",
    "\n",
    "# Semivarianza mi a ni:\n",
    "\n",
    "gm1n1 = (((1.5*m1n1/a) - (0.5*(m1n1/a)**3))*c1)+c0\n",
    "gm1n2 = (((1.5*m1n2/a) - (0.5*(m1n2/a)**3))*c1)+c0\n",
    "gm1n3 = (((1.5*m1n3/a) - (0.5*(m1n3/a)**3))*c1)+c0\n",
    "gm1n4 = (((1.5*m1n4/a) - (0.5*(m1n4/a)**3))*c1)+c0\n",
    "\n",
    "gm2n1 = (((1.5*m2n1/a) - (0.5*(m2n1/a)**3))*c1)+c0\n",
    "gm2n2 = (((1.5*m2n2/a) - (0.5*(m2n2/a)**3))*c1)+c0\n",
    "gm2n3 = (((1.5*m2n3/a) - (0.5*(m2n3/a)**3))*c1)+c0\n",
    "gm2n4 = (((1.5*m2n4/a) - (0.5*(m2n4/a)**3))*c1)+c0\n",
    "\n",
    "gm3n1 = (((1.5*m3n1/a) - (0.5*(m3n1/a)**3))*c1)+c0\n",
    "gm3n2 = (((1.5*m3n2/a) - (0.5*(m3n2/a)**3))*c1)+c0\n",
    "gm3n3 = (((1.5*m3n3/a) - (0.5*(m3n3/a)**3))*c1)+c0\n",
    "gm3n4 = (((1.5*m3n4/a) - (0.5*(m3n4/a)**3))*c1)+c0\n",
    "\n",
    "# Semivarianza punto - volumen; mi - b\n",
    "# sum(G(mi,ni))/n    donde \"n\" es el numero de nodos\n",
    "\n",
    "n= 4\n",
    "\n",
    "g1_b = (gm1n1+gm1n2+gm1n3+gm1n4)/n \n",
    "g2_b = (gm2n1 + gm2n2 + gm2n3 + gm2n4)/n\n",
    "g3_b = (gm3n1+ gm3n2+ gm3n3 + gm3n4)/n\n",
    "\n",
    "#Solución del sistema de Kriging Ordinario (punto - volumen):\n",
    "\n",
    "ma =np.array([[g1_1, g1_2, g1_3, 1],[g2_1, g2_2, g2_3, 1], [g3_1, g3_2, g3_3, 1],[1, 1, 1, 0]])\n",
    "mb = np.array([[g1_b],[g2_b], [g3_b], [1]])\n",
    "\n",
    "msx = np.linalg.solve(ma,mb)\n",
    "ms = pd.DataFrame(msx)\n",
    "a1 = ms.iloc[0,0]\n",
    "a2 = ms.iloc[1,0]\n",
    "a3 = ms.iloc[2,0]\n",
    "u = ms.iloc[3,0]\n",
    "insesgo = a1+a2+a3\n",
    "\n",
    "print(\"Condición de insesgo lineal:\",round(insesgo,2))"
   ]
  },
  {
   "cell_type": "code",
   "execution_count": 9,
   "metadata": {},
   "outputs": [
    {
     "name": "stdout",
     "output_type": "stream",
     "text": [
      "La media estimada del bloque es: 6.44\n"
     ]
    }
   ],
   "source": [
    "Zb = a1*m1 + a2*m2 + a3*m3\n",
    "print(\"La media estimada del bloque es:\", round(Zb,2))"
   ]
  },
  {
   "cell_type": "markdown",
   "metadata": {},
   "source": [
    "**IV: Varianza de estimación de Kriging:** Matriz G(h)."
   ]
  },
  {
   "cell_type": "code",
   "execution_count": 10,
   "metadata": {},
   "outputs": [
    {
     "name": "stdout",
     "output_type": "stream",
     "text": [
      "La varianza de estimación de K.O. es: 0.15\n"
     ]
    }
   ],
   "source": [
    "#Se calculara la varianza denominada \"volumen - volumen\", en este caso 16 valores resultantes de n^2.\n",
    "\n",
    "#distancias entre nodos:\n",
    "\n",
    "n1n1 = 0 #por obviedad. \n",
    "n1n2 = np.sqrt((dfn.iloc[0,0] - dfn.iloc[1,0])**2 + (dfn.iloc[0,1] - dfn.iloc[1,1])**2)\n",
    "n1n3 = np.sqrt((dfn.iloc[0,0] - dfn.iloc[2,0])**2 + (dfn.iloc[0,1] - dfn.iloc[2,1])**2)\n",
    "n1n4 = np.sqrt((dfn.iloc[0,0] - dfn.iloc[3,0])**2 + (dfn.iloc[0,1] - dfn.iloc[3,1])**2)\n",
    "\n",
    "n2n1 = n1n2\n",
    "n2n2 = n1n1\n",
    "n2n3 = np.sqrt((dfn.iloc[1,0] - dfn.iloc[2,0])**2 + (dfn.iloc[1,1] - dfn.iloc[2,1])**2)\n",
    "n2n4 = np.sqrt((dfn.iloc[1,0] - dfn.iloc[3,0])**2 + (dfn.iloc[1,1] - dfn.iloc[3,1])**2)\n",
    "\n",
    "n3n1 = n1n3\n",
    "n3n2 = n2n3\n",
    "n3n3 = n1n1\n",
    "n3n4 = np.sqrt((dfn.iloc[2,0] - dfn.iloc[3,0])**2 + (dfn.iloc[2,1] - dfn.iloc[3,1])**2)\n",
    "\n",
    "n4n1 = n1n4\n",
    "n4n2 = n2n4\n",
    "n4n3 = n3n4\n",
    "n4n4 = n1n1\n",
    "\n",
    "#semivarianzas entre nodos:\n",
    "\n",
    "g_n1n1 = 0 #por propiedad.\n",
    "g_n1n2 = (((1.5*n1n2/a) - (0.5*(n1n2/a)**3))*c1)+c0\n",
    "g_n1n3 = (((1.5*n1n3/a) - (0.5*(n1n3/a)**3))*c1)+c0\n",
    "g_n1n4 = (((1.5*n1n4/a) - (0.5*(n1n4/a)**3))*c1)+c0\n",
    "\n",
    "g_n2n1 = g_n1n2\n",
    "g_n2n2 = g_n1n1\n",
    "g_n2n3 = (((1.5*n2n3/a) - (0.5*(n2n3/a)**3))*c1)+c0\n",
    "g_n2n4 = (((1.5*n2n4/a) - (0.5*(n2n4/a)**3))*c1)+c0\n",
    "\n",
    "g_n3n1 = g_n1n3\n",
    "g_n3n2 = g_n2n3\n",
    "g_n3n3 = g_n1n1\n",
    "g_n3n4 = (((1.5*n3n4/a) - (0.5*(n3n4/a)**3))*c1)+c0\n",
    "\n",
    "g_n4n1 = g_n1n4\n",
    "g_n4n2 = g_n2n4\n",
    "g_n4n3 = g_n3n4\n",
    "g_n4n4 = g_n1n1\n",
    "\n",
    "\n",
    "gv_v = ((g_n1n1+g_n1n2+g_n1n3+g_n1n4+g_n2n1+g_n2n2+g_n2n3+g_n2n4+g_n3n1+g_n3n2+g_n3n3+g_n3n4+g_n4n1+g_n4n2+g_n4n3+g_n4n4)/(n**2))\n",
    "\n",
    "var_g = (a1*g1_b + a2*g2_b + a3*g3_b) + u - gv_v\n",
    "print(\"La varianza de estimación de K.O. es:\",round(var_g,2))"
   ]
  },
  {
   "cell_type": "code",
   "execution_count": 11,
   "metadata": {},
   "outputs": [
    {
     "name": "stdout",
     "output_type": "stream",
     "text": [
      "La covarianza de estimación de K.O. es: 0.15\n"
     ]
    }
   ],
   "source": [
    "# Mediante el uso de un sistema de Kriging con covarianzas, el resultado es el mismo:\n",
    "\n",
    "cov_1 = ct - g1_b # covarianza entre m1 y el bloque\n",
    "cov_2 = ct - g2_b # covarianza entre m2 y el bloque\n",
    "cov_3 = ct - g3_b # covarianza entre m3 y el bloque\n",
    "\n",
    "var_c = ((ct - gv_v) - ((a1*cov_1 + a2*cov_2 + a3*cov_3) - u)) #Covarianza bloque-bloque, menos ponderadores*covarianza muestra-bloque menos mult. lagrange\n",
    "print(\"La covarianza de estimación de K.O. es:\",round(var_c,2))"
   ]
  },
  {
   "cell_type": "markdown",
   "metadata": {},
   "source": [
    "**Categorización del bloque:**\n",
    "\n",
    "* Se categoriza mediante el coefiente de variación a un nivel del 95%."
   ]
  },
  {
   "cell_type": "code",
   "execution_count": 13,
   "metadata": {},
   "outputs": [
    {
     "data": {
      "image/png": "[encoded data removed]",
      "text/plain": [
       "<Figure size 432x432 with 1 Axes>"
      ]
     },
     "metadata": {
      "needs_background": "light"
     },
     "output_type": "display_data"
    },
    {
     "name": "stdout",
     "output_type": "stream",
     "text": [
      "CV: 0.12 equivalente a un bloque medido con un 95% de confianza\n"
     ]
    }
   ],
   "source": [
    "plt.figure(figsize=(6,6))\n",
    "ejeactual = plt.gca()\n",
    "ejeactual.add_patch(Rectangle((X , Y), 0.2, 0.2, fill=True, alpha=1)) #se proyecta un cuadrado de 0.2 x 0.2 desde X,Y. (*100)\n",
    "\n",
    "cv = (np.sqrt(var_g))*1.96/Zb\n",
    "\n",
    "plt.title(\"Coeficiente de variación bloque estimado\")\n",
    "plt.grid(True) #Generación de una cuadricula en la figura.\n",
    "plt.text(0.45,0.5, round(cv,2))\n",
    "plt.xlabel(\"Este [X]\")\n",
    "plt.ylabel(\"Norte [Y]\")\n",
    "plt.show()\n",
    "\n",
    "if cv > 0.5:\n",
    "    print(\"CV:\", round(cv,2), \"equivalente a un bloque inferido con un 95% de confianza\")\n",
    "elif cv < 0.25:\n",
    "    print(\"CV:\", round(cv,2),\"equivalente a un bloque medido con un 95% de confianza\")\n",
    "else:\n",
    "    print(\"CV:\", round(cv,2),\"equivalente a un bloque indicado con un 95% de confianza\")"
   ]
  }
 ],
 "metadata": {
  "kernelspec": {
   "display_name": "Python 3",
   "language": "python",
   "name": "python3"
  },
  "language_info": {
   "codemirror_mode": {
    "name": "ipython",
    "version": 3
   },
   "file_extension": ".py",
   "mimetype": "text/x-python",
   "name": "python",
   "nbconvert_exporter": "python",
   "pygments_lexer": "ipython3",
   "version": "3.7.0"
  }
 },
 "nbformat": 4,
 "nbformat_minor": 2
}
