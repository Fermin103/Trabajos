{
 "cells": [
  {
   "cell_type": "code",
   "execution_count": null,
   "metadata": {},
   "outputs": [],
   "source": [
    "#https://docs.scipy.org/doc/scipy/reference/generated/scipy.interpolate.NearestNDInterpolator.html"
   ]
  },
  {
   "cell_type": "code",
   "execution_count": null,
   "metadata": {},
   "outputs": [],
   "source": [
    "import numpy as np\n",
    "import pandas as pd\n",
    "import matplotlib.pyplot as plt"
   ]
  },
  {
   "cell_type": "code",
   "execution_count": null,
   "metadata": {},
   "outputs": [],
   "source": [
    "df = pd.read_excel(\"C:/Users/Heber/Desktop/MACHINE_LEARNING/samples_clustering.xlsx\")\n",
    "df2 = df.drop([\"CU\", \"AU\", \"ROCK\", \"ID\"], 1)\n",
    "\n",
    "df3 = df[\"CU\"]\n",
    "\n",
    "points = np.array(df2)\n",
    "values= np.array(df3)"
   ]
  },
  {
   "cell_type": "code",
   "execution_count": null,
   "metadata": {},
   "outputs": [],
   "source": [
    "points"
   ]
  },
  {
   "cell_type": "code",
   "execution_count": null,
   "metadata": {},
   "outputs": [],
   "source": [
    "marker_size=100\n",
    "plt.subplot(111)\n",
    "plt.scatter(df[\"X\"], df[\"Y\"], marker_size, df[\"CU\"], cmap = plt.cm.jet)\n",
    "plt.xlabel('Este [X]')\n",
    "plt.ylabel('Norte [Y]')\n",
    "plt.title('Muestras elemento Cobre (Cu)')\n",
    "plt.xlim(0,2000)\n",
    "plt.ylim(0,2000)\n",
    "cbar=plt.colorbar()\n",
    "cbar.set_label('Cu (%)', labelpad=+1)\n",
    "plt.subplots_adjust(left=0, bottom=0.0, right=1, top=1.2, wspace=0.2, hspace=0.2)\n",
    "plt.show()"
   ]
  },
  {
   "cell_type": "code",
   "execution_count": null,
   "metadata": {},
   "outputs": [],
   "source": []
  },
  {
   "cell_type": "code",
   "execution_count": null,
   "metadata": {},
   "outputs": [],
   "source": [
    "from scipy.interpolate import NearestNDInterpolator\n",
    "\n",
    "myInterpolator = NearestNDInterpolator(points, values)"
   ]
  },
  {
   "cell_type": "code",
   "execution_count": null,
   "metadata": {},
   "outputs": [],
   "source": [
    "grid_x = np.linspace(250,1750, num=50, endpoint=False) \n",
    "grid_y = np.linspace(250,1750, num=50, endpoint=False) \n",
    "\n",
    "gy = np.array(grid_y)\n",
    "gx = np.array(grid_x)\n",
    "\n",
    "yg, xg = np.meshgrid(grid_x, grid_y, indexing='ij') \n",
    "\n",
    "x_g = xg.ravel()\n",
    "y_g = yg.ravel()\n",
    "\n",
    "plt.subplot(111)\n",
    "plt.scatter(x_g,y_g)\n",
    "plt.xlabel(\"Este [X]\")\n",
    "plt.ylabel(\"Norte [Y]\")\n",
    "plt.title(\"Grid X-Y\")\n",
    "plt.xlim(0,2000)\n",
    "plt.ylim(0,2000)\n",
    "plt.grid(True)\n",
    "plt.subplots_adjust(left=0.0, bottom=0.0, right=1.5, top=1.8, wspace=0.2, hspace=0.2)\n",
    "plt.show()"
   ]
  },
  {
   "cell_type": "code",
   "execution_count": null,
   "metadata": {},
   "outputs": [],
   "source": [
    "est_cu = myInterpolator(x_g,y_g)"
   ]
  },
  {
   "cell_type": "code",
   "execution_count": null,
   "metadata": {},
   "outputs": [],
   "source": [
    "marker_size=100\n",
    "plt.subplot(111)\n",
    "plt.scatter(x_g, y_g, marker_size, est_cu, cmap = plt.cm.jet)\n",
    "plt.xlabel('Este [X]')\n",
    "plt.ylabel('Norte [Y]')\n",
    "plt.title('Muestras elemento Cobre (Cu)')\n",
    "plt.xlim(0,2000)\n",
    "plt.ylim(0,2000)\n",
    "cbar=plt.colorbar()\n",
    "cbar.set_label('Cu (%)', labelpad=+1)\n",
    "plt.subplots_adjust(left=0, bottom=0.0, right=1.5, top=1.8, wspace=0.2, hspace=0.2)\n",
    "plt.show()"
   ]
  },
  {
   "cell_type": "code",
   "execution_count": null,
   "metadata": {},
   "outputs": [],
   "source": [
    "from scipy.interpolate import griddata"
   ]
  },
  {
   "cell_type": "code",
   "execution_count": null,
   "metadata": {},
   "outputs": [],
   "source": [
    "grid_z0 = griddata(points, values, (x_g, y_g), method='nearest') #method{‘linear’, ‘nearest’, ‘cubic’}, optional"
   ]
  },
  {
   "cell_type": "code",
   "execution_count": null,
   "metadata": {},
   "outputs": [],
   "source": [
    "marker_size=100\n",
    "plt.subplot(111)\n",
    "plt.scatter(x_g, y_g, marker_size, grid_z0, cmap = plt.cm.jet)\n",
    "plt.xlabel('Este [X]')\n",
    "plt.ylabel('Norte [Y]')\n",
    "plt.title('Muestras elemento Cobre (Cu)')\n",
    "plt.xlim(0,2000)\n",
    "plt.ylim(0,2000)\n",
    "cbar=plt.colorbar()\n",
    "cbar.set_label('Cu (%)', labelpad=+1)\n",
    "plt.subplots_adjust(left=0, bottom=0.0, right=1.5, top=1.8, wspace=0.2, hspace=0.2)\n",
    "plt.show()"
   ]
  },
  {
   "cell_type": "code",
   "execution_count": null,
   "metadata": {},
   "outputs": [],
   "source": []
  },
  {
   "cell_type": "code",
   "execution_count": null,
   "metadata": {},
   "outputs": [],
   "source": []
  },
  {
   "cell_type": "code",
   "execution_count": null,
   "metadata": {},
   "outputs": [],
   "source": []
  },
  {
   "cell_type": "code",
   "execution_count": null,
   "metadata": {},
   "outputs": [],
   "source": []
  }
 ],
 "metadata": {
  "kernelspec": {
   "display_name": "Python 3",
   "language": "python",
   "name": "python3"
  },
  "language_info": {
   "codemirror_mode": {
    "name": "ipython",
    "version": 3
   },
   "file_extension": ".py",
   "mimetype": "text/x-python",
   "name": "python",
   "nbconvert_exporter": "python",
   "pygments_lexer": "ipython3",
   "version": "3.7.4"
  }
 },
 "nbformat": 4,
 "nbformat_minor": 2
}
