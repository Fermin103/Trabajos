{
 "cells": [
  {
   "cell_type": "code",
   "execution_count": 5,
   "metadata": {},
   "outputs": [],
   "source": [
    "import pandas as pd\n",
    "import numpy as np"
   ]
  },
  {
   "cell_type": "code",
   "execution_count": 13,
   "metadata": {},
   "outputs": [
    {
     "data": {
      "text/html": [
       "<div>\n",
       "<style scoped>\n",
       "    .dataframe tbody tr th:only-of-type {\n",
       "        vertical-align: middle;\n",
       "    }\n",
       "\n",
       "    .dataframe tbody tr th {\n",
       "        vertical-align: top;\n",
       "    }\n",
       "\n",
       "    .dataframe thead th {\n",
       "        text-align: right;\n",
       "    }\n",
       "</style>\n",
       "<table border=\"1\" class=\"dataframe\">\n",
       "  <thead>\n",
       "    <tr style=\"text-align: right;\">\n",
       "      <th></th>\n",
       "      <th>Este [X]</th>\n",
       "      <th>Norte [Y]</th>\n",
       "      <th>Cota [Z]</th>\n",
       "      <th>Cobre_KO</th>\n",
       "      <th>Varianza</th>\n",
       "      <th>cv</th>\n",
       "      <th>cat</th>\n",
       "    </tr>\n",
       "  </thead>\n",
       "  <tbody>\n",
       "    <tr>\n",
       "      <th>0</th>\n",
       "      <td>0.0</td>\n",
       "      <td>0.0</td>\n",
       "      <td>0.0</td>\n",
       "      <td>1.006240</td>\n",
       "      <td>0.405507</td>\n",
       "      <td>0.632845</td>\n",
       "      <td>3</td>\n",
       "    </tr>\n",
       "    <tr>\n",
       "      <th>1</th>\n",
       "      <td>10.0</td>\n",
       "      <td>0.0</td>\n",
       "      <td>0.0</td>\n",
       "      <td>1.011323</td>\n",
       "      <td>0.396148</td>\n",
       "      <td>0.622356</td>\n",
       "      <td>3</td>\n",
       "    </tr>\n",
       "    <tr>\n",
       "      <th>2</th>\n",
       "      <td>20.0</td>\n",
       "      <td>0.0</td>\n",
       "      <td>0.0</td>\n",
       "      <td>1.009314</td>\n",
       "      <td>0.386985</td>\n",
       "      <td>0.616341</td>\n",
       "      <td>3</td>\n",
       "    </tr>\n",
       "    <tr>\n",
       "      <th>3</th>\n",
       "      <td>30.0</td>\n",
       "      <td>0.0</td>\n",
       "      <td>0.0</td>\n",
       "      <td>0.991618</td>\n",
       "      <td>0.378473</td>\n",
       "      <td>0.620402</td>\n",
       "      <td>3</td>\n",
       "    </tr>\n",
       "    <tr>\n",
       "      <th>4</th>\n",
       "      <td>40.0</td>\n",
       "      <td>0.0</td>\n",
       "      <td>0.0</td>\n",
       "      <td>0.958668</td>\n",
       "      <td>0.370786</td>\n",
       "      <td>0.635176</td>\n",
       "      <td>3</td>\n",
       "    </tr>\n",
       "  </tbody>\n",
       "</table>\n",
       "</div>"
      ],
      "text/plain": [
       "   Este [X]  Norte [Y]  Cota [Z]  Cobre_KO  Varianza        cv  cat\n",
       "0       0.0        0.0       0.0  1.006240  0.405507  0.632845    3\n",
       "1      10.0        0.0       0.0  1.011323  0.396148  0.622356    3\n",
       "2      20.0        0.0       0.0  1.009314  0.386985  0.616341    3\n",
       "3      30.0        0.0       0.0  0.991618  0.378473  0.620402    3\n",
       "4      40.0        0.0       0.0  0.958668  0.370786  0.635176    3"
      ]
     },
     "execution_count": 13,
     "metadata": {},
     "output_type": "execute_result"
    }
   ],
   "source": [
    "carpeta = \"C:/Users/Heber/Desktop/CRMVK NUBE MINERA 2019/Dataset/\" #dirección de la carpeta que contiene el dataset\n",
    "archivo = \"modelo3d_categorias.csv\" #nombre de archivo con su respectiva extensión\n",
    "\n",
    "df = pd.read_csv(carpeta + archivo, sep=\",\")\n",
    "df.head()"
   ]
  },
  {
   "cell_type": "code",
   "execution_count": 31,
   "metadata": {},
   "outputs": [
    {
     "data": {
      "text/plain": [
       "37515"
      ]
     },
     "execution_count": 31,
     "metadata": {},
     "output_type": "execute_result"
    }
   ],
   "source": [
    "df[\"Cobre_KO\"].count() #numero total de bloques en el modelo"
   ]
  },
  {
   "cell_type": "code",
   "execution_count": 10,
   "metadata": {},
   "outputs": [
    {
     "name": "stdout",
     "output_type": "stream",
     "text": [
      "Cat 1: 529 / Cat 2: 11571 / Cat 3: 25415\n"
     ]
    }
   ],
   "source": [
    "catko1 = df[df[\"cat\"] == 1] # categoria 1 recursos medidos\n",
    "catko2 = df[df[\"cat\"] == 2] # categoria 2 recursos indicados\n",
    "catko3 = df[df[\"cat\"] == 3] # categoria 3 recursos inferidos\n",
    "\n",
    "c1 = catko1[\"cat\"].count() # conteo de bloques recursos medidos\n",
    "c2 = catko2[\"cat\"].count() # conteo de bloques recursos indicados\n",
    "c3 = catko3[\"cat\"].count() # conteo de bloques recursos inferidos\n",
    "\n",
    "print(\"Cat 1:\", c1, \"/\", \"Cat 2:\", c2, \"/\", \"Cat 3:\", c3) #se imprime el N° de bloques por categoría."
   ]
  },
  {
   "cell_type": "code",
   "execution_count": 28,
   "metadata": {},
   "outputs": [
    {
     "name": "stdout",
     "output_type": "stream",
     "text": [
      "Cat 1: 1184486.2055177928 ton / Cat 2: 25908676.52938824 ton / Cat 3: 56906837.26509396 ton\n"
     ]
    }
   ],
   "source": [
    "#el volumen del modelo es de 600x400x140= 33,600,000 m3, luego asumiendo una densidad de 2.5 ton/m3, la masa total es de 84MTon\n",
    "\n",
    "#si el total de bloques es de 37,515. cada bloque representa 2239.104358256697 ton\n",
    "\n",
    "ton = 2239.104358256697\n",
    "\n",
    "print(\"Cat 1:\", c1*ton, \"ton\", \"/\", \"Cat 2:\", c2*ton, \"ton\", \"/\", \"Cat 3:\", c3*ton, \"ton\")"
   ]
  },
  {
   "cell_type": "code",
   "execution_count": 30,
   "metadata": {},
   "outputs": [
    {
     "data": {
      "text/plain": [
       "84000000.0"
      ]
     },
     "execution_count": 30,
     "metadata": {},
     "output_type": "execute_result"
    }
   ],
   "source": [
    "c1*ton + c2*ton + c3*ton # se corrobora que la sumatario de las categorias coincida con la masa total del modelo"
   ]
  },
  {
   "cell_type": "code",
   "execution_count": 32,
   "metadata": {},
   "outputs": [],
   "source": [
    "#Estadísticos de la variable de interés (Cu) en modelo 3D:\n",
    "\n",
    "min_k = df['Cobre_KO'].min() #min\n",
    "max_k = df['Cobre_KO'].max() #max\n",
    "med_k = df['Cobre_KO'].mean() #media\n",
    "var_k = df['Cobre_KO'].var() #varianza\n",
    "des_k = np.sqrt(var_k) #desviación\n",
    "ran_k = (max_k - min_k) #rango\n",
    "cv_k = des_k/med_k #coeficiente de variación\n",
    "skew_k = df['Cobre_KO'].skew() # factor de asimetria\n",
    "q1_k = df['Cobre_KO'].quantile(0.25) #Primer cuartil Q1 o P25\n",
    "q2_k = df['Cobre_KO'].quantile(0.5) #mediana\n",
    "q3_k = df['Cobre_KO'].quantile(0.75) #Tercer cuartil\n",
    "k_k = df['Cobre_KO'].kurt() #curtosis"
   ]
  },
  {
   "cell_type": "markdown",
   "metadata": {},
   "source": [
    "**Ejercicio Propuesto:** Al igual que con las estadísticas para el modelo 3D completo, realice el calculo de los estadísticos de posición, dispersión y forma para cada categoría de recursos. "
   ]
  }
 ],
 "metadata": {
  "kernelspec": {
   "display_name": "Python 3",
   "language": "python",
   "name": "python3"
  },
  "language_info": {
   "codemirror_mode": {
    "name": "ipython",
    "version": 3
   },
   "file_extension": ".py",
   "mimetype": "text/x-python",
   "name": "python",
   "nbconvert_exporter": "python",
   "pygments_lexer": "ipython3",
   "version": "3.7.0"
  }
 },
 "nbformat": 4,
 "nbformat_minor": 2
}
