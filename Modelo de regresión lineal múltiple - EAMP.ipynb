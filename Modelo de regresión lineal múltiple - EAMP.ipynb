{
 "cells": [
  {
   "attachments": {
    "logo_nube_4.png": {
     "image/png": "[encoded data removed]"
    }
   },
   "cell_type": "markdown",
   "metadata": {},
   "source": [
    "**APLICACIÓN DE UN MODELO DE REGRESIÓN LINEAL MÚLTIPLE (MRLM)**\n",
    "\n",
    ">Por: Heber Hernández Guerra: heber@nubeminera.cl \n",
    "![logo_nube_4.png](attachment:logo_nube_4.png)\n",
    "\n",
    "\n",
    "- **Caso de estudio: Contaminantes del aire medidos en la comunidad autonoma Vasca - España**\n",
    "\n",
    "En el presente notebook se presenta un caso en el cual se debió ajustar un MRLM para con el regresando NO$_x$, correspondiente a un grupo de gases de óxido de nitrógeno, especificamente de los regresores NO y NO$_2$. Los datos fueron extraidos desde 43 estaciones de monitoreo dispuestas en las tres provincias del País Vasco durante el año 2019.\n",
    "\n",
    "- **Contaminantes**:\n",
    "\n",
    "    1. PM$_1$$_0$:Material particulado igual o menor a 10 micras.\n",
    "    2. NO: Monóxido de nitrógeno.\n",
    "    3. NO$_2$:Dioxido de nitrógeno.\n",
    "    4. NO$_x$: Grupo combinado de NO y NO$_2$ (*se busca la ecuación que explique la variable*).\n",
    "\n",
    "\n",
    "- **Referencia biblioteca contenendora del algoritmo MRLM:** http://www.statsmodels.org/stable/api.html"
   ]
  },
  {
   "cell_type": "markdown",
   "metadata": {},
   "source": [
    "**1. Bibliotecas utilizadas:**"
   ]
  },
  {
   "cell_type": "code",
   "execution_count": 22,
   "metadata": {},
   "outputs": [],
   "source": [
    "import statsmodels.formula.api as sfm #Biblioteca para estimar modelos estadísticos y realizar pruebas estadísticas.\n",
    "import pandas as pd #Biblioteca para manipulación de marcos de datos\n",
    "from pandas.plotting import scatter_matrix #Herramienta de Pandas para diagramas de dispersión en matriz.\n",
    "import matplotlib.pyplot as plt #Biblioteca para la salida gráfica.\n",
    "import numpy as np # Biblioteca de funciones matemáticas."
   ]
  },
  {
   "cell_type": "code",
   "execution_count": 23,
   "metadata": {},
   "outputs": [
    {
     "data": {
      "text/html": [
       "<div>\n",
       "<style scoped>\n",
       "    .dataframe tbody tr th:only-of-type {\n",
       "        vertical-align: middle;\n",
       "    }\n",
       "\n",
       "    .dataframe tbody tr th {\n",
       "        vertical-align: top;\n",
       "    }\n",
       "\n",
       "    .dataframe thead th {\n",
       "        text-align: right;\n",
       "    }\n",
       "</style>\n",
       "<table border=\"1\" class=\"dataframe\">\n",
       "  <thead>\n",
       "    <tr style=\"text-align: right;\">\n",
       "      <th></th>\n",
       "      <th>id</th>\n",
       "      <th>Coordenates X (ETRS89)</th>\n",
       "      <th>Coordenates Y (ETRS89)</th>\n",
       "      <th>NO (µg/m3)</th>\n",
       "      <th>NO2 (µg/m3)</th>\n",
       "      <th>NOX (µg/m3)</th>\n",
       "      <th>PM10 (µg/m3)</th>\n",
       "    </tr>\n",
       "  </thead>\n",
       "  <tbody>\n",
       "    <tr>\n",
       "      <td>0</td>\n",
       "      <td>1</td>\n",
       "      <td>527141.4365</td>\n",
       "      <td>4.744883e+06</td>\n",
       "      <td>8.782967</td>\n",
       "      <td>21.189560</td>\n",
       "      <td>34.472527</td>\n",
       "      <td>13.518414</td>\n",
       "    </tr>\n",
       "    <tr>\n",
       "      <td>1</td>\n",
       "      <td>2</td>\n",
       "      <td>493987.1750</td>\n",
       "      <td>4.796407e+06</td>\n",
       "      <td>5.199446</td>\n",
       "      <td>16.462604</td>\n",
       "      <td>24.204420</td>\n",
       "      <td>12.486567</td>\n",
       "    </tr>\n",
       "    <tr>\n",
       "      <td>2</td>\n",
       "      <td>3</td>\n",
       "      <td>549539.1393</td>\n",
       "      <td>4.744226e+06</td>\n",
       "      <td>4.480556</td>\n",
       "      <td>10.763889</td>\n",
       "      <td>17.708333</td>\n",
       "      <td>13.538674</td>\n",
       "    </tr>\n",
       "    <tr>\n",
       "      <td>3</td>\n",
       "      <td>4</td>\n",
       "      <td>498154.0000</td>\n",
       "      <td>4.801022e+06</td>\n",
       "      <td>6.953297</td>\n",
       "      <td>13.560440</td>\n",
       "      <td>24.123626</td>\n",
       "      <td>20.903846</td>\n",
       "    </tr>\n",
       "    <tr>\n",
       "      <td>4</td>\n",
       "      <td>5</td>\n",
       "      <td>500972.2158</td>\n",
       "      <td>4.788307e+06</td>\n",
       "      <td>2.454545</td>\n",
       "      <td>11.559659</td>\n",
       "      <td>15.312500</td>\n",
       "      <td>12.463687</td>\n",
       "    </tr>\n",
       "  </tbody>\n",
       "</table>\n",
       "</div>"
      ],
      "text/plain": [
       "   id  Coordenates X (ETRS89)  Coordenates Y (ETRS89)  NO (µg/m3)  \\\n",
       "0   1             527141.4365            4.744883e+06    8.782967   \n",
       "1   2             493987.1750            4.796407e+06    5.199446   \n",
       "2   3             549539.1393            4.744226e+06    4.480556   \n",
       "3   4             498154.0000            4.801022e+06    6.953297   \n",
       "4   5             500972.2158            4.788307e+06    2.454545   \n",
       "\n",
       "   NO2 (µg/m3)  NOX (µg/m3)  PM10 (µg/m3)  \n",
       "0    21.189560    34.472527     13.518414  \n",
       "1    16.462604    24.204420     12.486567  \n",
       "2    10.763889    17.708333     13.538674  \n",
       "3    13.560440    24.123626     20.903846  \n",
       "4    11.559659    15.312500     12.463687  "
      ]
     },
     "execution_count": 23,
     "metadata": {},
     "output_type": "execute_result"
    }
   ],
   "source": [
    "df = pd.read_excel(\"C:/Users/heber/Desktop/CURSO_GRAFICOS_EN_PYTHON/Regresión Lineal Multiple/\" + \"datos.xlsx\", sep=\",\") #Ruta del archivo datos.xlsx\n",
    "df.head() #Despliegue de las 5 primeras filas del DataFrame"
   ]
  },
  {
   "cell_type": "code",
   "execution_count": 24,
   "metadata": {},
   "outputs": [
    {
     "data": {
      "text/html": [
       "<div>\n",
       "<style scoped>\n",
       "    .dataframe tbody tr th:only-of-type {\n",
       "        vertical-align: middle;\n",
       "    }\n",
       "\n",
       "    .dataframe tbody tr th {\n",
       "        vertical-align: top;\n",
       "    }\n",
       "\n",
       "    .dataframe thead th {\n",
       "        text-align: right;\n",
       "    }\n",
       "</style>\n",
       "<table border=\"1\" class=\"dataframe\">\n",
       "  <thead>\n",
       "    <tr style=\"text-align: right;\">\n",
       "      <th></th>\n",
       "      <th>count</th>\n",
       "      <th>mean</th>\n",
       "      <th>std</th>\n",
       "      <th>min</th>\n",
       "      <th>25%</th>\n",
       "      <th>50%</th>\n",
       "      <th>75%</th>\n",
       "      <th>max</th>\n",
       "    </tr>\n",
       "  </thead>\n",
       "  <tbody>\n",
       "    <tr>\n",
       "      <td>NO (µg/m3)</td>\n",
       "      <td>43.0</td>\n",
       "      <td>6.816391</td>\n",
       "      <td>4.363830</td>\n",
       "      <td>0.754930</td>\n",
       "      <td>3.340677</td>\n",
       "      <td>7.346041</td>\n",
       "      <td>8.745879</td>\n",
       "      <td>20.246835</td>\n",
       "    </tr>\n",
       "    <tr>\n",
       "      <td>NO$_2$ (µg/m$^3$)</td>\n",
       "      <td>43.0</td>\n",
       "      <td>16.902090</td>\n",
       "      <td>7.370552</td>\n",
       "      <td>2.355556</td>\n",
       "      <td>11.161774</td>\n",
       "      <td>17.403846</td>\n",
       "      <td>21.692062</td>\n",
       "      <td>35.585443</td>\n",
       "    </tr>\n",
       "    <tr>\n",
       "      <td>NO$_x$ (µg/m$^3$)</td>\n",
       "      <td>43.0</td>\n",
       "      <td>27.255321</td>\n",
       "      <td>13.636090</td>\n",
       "      <td>4.025000</td>\n",
       "      <td>16.247410</td>\n",
       "      <td>29.102639</td>\n",
       "      <td>34.482143</td>\n",
       "      <td>66.401899</td>\n",
       "    </tr>\n",
       "    <tr>\n",
       "      <td>PM$_1$$_0$ (µg/m$^3$)</td>\n",
       "      <td>43.0</td>\n",
       "      <td>15.311702</td>\n",
       "      <td>3.559351</td>\n",
       "      <td>8.801170</td>\n",
       "      <td>12.630450</td>\n",
       "      <td>14.580175</td>\n",
       "      <td>16.789548</td>\n",
       "      <td>23.050000</td>\n",
       "    </tr>\n",
       "  </tbody>\n",
       "</table>\n",
       "</div>"
      ],
      "text/plain": [
       "                       count       mean        std       min        25%  \\\n",
       "NO (µg/m3)              43.0   6.816391   4.363830  0.754930   3.340677   \n",
       "NO$_2$ (µg/m$^3$)       43.0  16.902090   7.370552  2.355556  11.161774   \n",
       "NO$_x$ (µg/m$^3$)       43.0  27.255321  13.636090  4.025000  16.247410   \n",
       "PM$_1$$_0$ (µg/m$^3$)   43.0  15.311702   3.559351  8.801170  12.630450   \n",
       "\n",
       "                             50%        75%        max  \n",
       "NO (µg/m3)              7.346041   8.745879  20.246835  \n",
       "NO$_2$ (µg/m$^3$)      17.403846  21.692062  35.585443  \n",
       "NO$_x$ (µg/m$^3$)      29.102639  34.482143  66.401899  \n",
       "PM$_1$$_0$ (µg/m$^3$)  14.580175  16.789548  23.050000  "
      ]
     },
     "execution_count": 24,
     "metadata": {},
     "output_type": "execute_result"
    }
   ],
   "source": [
    "df_2 = df.iloc[:,[3,4,5,6]] # Dataframe solo con los 4 contaminantes, excluyendo coordenadas. \n",
    "df_2.rename(columns={'PM10 (µg/m3)': \"PM$_1$$_0$ (µg/m$^3$)\", \"NO2 (µg/m3)\": \"NO$_2$ (µg/m$^3$)\", \"NOX (µg/m3)\":\"NO$_x$ (µg/m$^3$)\" }, inplace=True) #Edición de los titulos de columnas.        \n",
    "df_2.describe().transpose()"
   ]
  },
  {
   "cell_type": "markdown",
   "metadata": {},
   "source": [
    "**2. Ploteo Diagrama de dispersión en forma de matriz:** "
   ]
  },
  {
   "cell_type": "code",
   "execution_count": 25,
   "metadata": {},
   "outputs": [
    {
     "name": "stderr",
     "output_type": "stream",
     "text": [
      "C:\\ProgramData\\Anaconda3\\lib\\site-packages\\ipykernel_launcher.py:2: FutureWarning: Method .as_matrix will be removed in a future version. Use .values instead.\n",
      "  \n"
     ]
    },
    {
     "data": {
      "image/png": "[encoded data removed]",
      "text/plain": [
       "<Figure size 720x720 with 16 Axes>"
      ]
     },
     "metadata": {
      "needs_background": "light"
     },
     "output_type": "display_data"
    }
   ],
   "source": [
    "axes = scatter_matrix(df_2, alpha=1, figsize=(10,10), color=\"skyblue\")\n",
    "corr = df_2.corr().as_matrix()\n",
    "for i, j in zip(*plt.np.triu_indices_from(axes, k=1)):\n",
    "    axes[i, j].annotate(\"%.2f\" %corr[i,j], (0.8, 0.8), xycoords='axes fraction', ha='center', va='center')\n",
    "plt.savefig(\"C:/Users/heber/Desktop/CURSO_GRAFICOS_EN_PYTHON/Regresión Lineal Multiple/matrix_scatter.png\", dpi=300) #ruta imagen guardada\n",
    "plt.show()"
   ]
  },
  {
   "cell_type": "markdown",
   "metadata": {},
   "source": [
    "**3. Variables de interés para el MLRM:**"
   ]
  },
  {
   "cell_type": "code",
   "execution_count": 26,
   "metadata": {},
   "outputs": [
    {
     "data": {
      "text/html": [
       "<div>\n",
       "<style scoped>\n",
       "    .dataframe tbody tr th:only-of-type {\n",
       "        vertical-align: middle;\n",
       "    }\n",
       "\n",
       "    .dataframe tbody tr th {\n",
       "        vertical-align: top;\n",
       "    }\n",
       "\n",
       "    .dataframe thead th {\n",
       "        text-align: right;\n",
       "    }\n",
       "</style>\n",
       "<table border=\"1\" class=\"dataframe\">\n",
       "  <thead>\n",
       "    <tr style=\"text-align: right;\">\n",
       "      <th></th>\n",
       "      <th>NO</th>\n",
       "      <th>NO2</th>\n",
       "      <th>NOX</th>\n",
       "    </tr>\n",
       "  </thead>\n",
       "  <tbody>\n",
       "    <tr>\n",
       "      <td>0</td>\n",
       "      <td>8.782967</td>\n",
       "      <td>21.189560</td>\n",
       "      <td>34.472527</td>\n",
       "    </tr>\n",
       "    <tr>\n",
       "      <td>1</td>\n",
       "      <td>5.199446</td>\n",
       "      <td>16.462604</td>\n",
       "      <td>24.204420</td>\n",
       "    </tr>\n",
       "    <tr>\n",
       "      <td>2</td>\n",
       "      <td>4.480556</td>\n",
       "      <td>10.763889</td>\n",
       "      <td>17.708333</td>\n",
       "    </tr>\n",
       "    <tr>\n",
       "      <td>3</td>\n",
       "      <td>6.953297</td>\n",
       "      <td>13.560440</td>\n",
       "      <td>24.123626</td>\n",
       "    </tr>\n",
       "    <tr>\n",
       "      <td>4</td>\n",
       "      <td>2.454545</td>\n",
       "      <td>11.559659</td>\n",
       "      <td>15.312500</td>\n",
       "    </tr>\n",
       "  </tbody>\n",
       "</table>\n",
       "</div>"
      ],
      "text/plain": [
       "         NO        NO2        NOX\n",
       "0  8.782967  21.189560  34.472527\n",
       "1  5.199446  16.462604  24.204420\n",
       "2  4.480556  10.763889  17.708333\n",
       "3  6.953297  13.560440  24.123626\n",
       "4  2.454545  11.559659  15.312500"
      ]
     },
     "execution_count": 26,
     "metadata": {},
     "output_type": "execute_result"
    }
   ],
   "source": [
    "variables = [\"NO (µg/m3)\", \"NO2 (µg/m3)\", \"NOX (µg/m3)\"] #Variables con mayor correlación, se descarta el PM10.\n",
    "data = df[variables]\n",
    "data.rename(columns={'NO (µg/m3)':'NO',\n",
    "                          'NO2 (µg/m3)':'NO2',\n",
    "                          'NOX (µg/m3)':'NOX'}, \n",
    "                 inplace=True)\n",
    "data.head()"
   ]
  },
  {
   "cell_type": "code",
   "execution_count": 27,
   "metadata": {},
   "outputs": [],
   "source": [
    "lm = sfm.ols(formula=\"NOX~NO+NO2\", data=data).fit() #NOX = regresando, NO+NO2 = regresores\n",
    "#ols = Ordinary Least Squares o \"mínimos cuadrados ordinarios\"\n",
    "lm.params #parametros de la ecuación"
   ]
  },
  {
   "cell_type": "markdown",
   "metadata": {},
   "source": [
    "**Modelo regresión multiple: NO$_x$** = 0.290262 +  1.559730**NO** +  0.966350**NO$_2$**"
   ]
  },
  {
   "cell_type": "markdown",
   "metadata": {},
   "source": [
    "**4. Evaluación del MLRM:**"
   ]
  },
  {
   "cell_type": "code",
   "execution_count": 29,
   "metadata": {},
   "outputs": [
    {
     "data": {
      "text/plain": [
       "Intercept    2.456217e-03\n",
       "NO           4.880887e-47\n",
       "NO2          8.012475e-48\n",
       "dtype: float64"
      ]
     },
     "execution_count": 29,
     "metadata": {},
     "output_type": "execute_result"
    }
   ],
   "source": [
    "lm.pvalues #nivel de significancia, se entiende que bajo 0.05 el p-value, se aprueba la hipotesis"
   ]
  },
  {
   "cell_type": "code",
   "execution_count": 30,
   "metadata": {},
   "outputs": [
    {
     "data": {
      "text/html": [
       "<table class=\"simpletable\">\n",
       "<caption>OLS Regression Results</caption>\n",
       "<tr>\n",
       "  <th>Dep. Variable:</th>           <td>NOX</td>       <th>  R-squared:         </th> <td>   1.000</td> \n",
       "</tr>\n",
       "<tr>\n",
       "  <th>Model:</th>                   <td>OLS</td>       <th>  Adj. R-squared:    </th> <td>   1.000</td> \n",
       "</tr>\n",
       "<tr>\n",
       "  <th>Method:</th>             <td>Least Squares</td>  <th>  F-statistic:       </th> <td>9.282e+04</td>\n",
       "</tr>\n",
       "<tr>\n",
       "  <th>Date:</th>             <td>Sun, 09 Feb 2020</td> <th>  Prob (F-statistic):</th> <td>4.63e-74</td> \n",
       "</tr>\n",
       "<tr>\n",
       "  <th>Time:</th>                 <td>01:27:52</td>     <th>  Log-Likelihood:    </th> <td>  8.6680</td> \n",
       "</tr>\n",
       "<tr>\n",
       "  <th>No. Observations:</th>      <td>    43</td>      <th>  AIC:               </th> <td>  -11.34</td> \n",
       "</tr>\n",
       "<tr>\n",
       "  <th>Df Residuals:</th>          <td>    40</td>      <th>  BIC:               </th> <td>  -6.052</td> \n",
       "</tr>\n",
       "<tr>\n",
       "  <th>Df Model:</th>              <td>     2</td>      <th>                     </th>     <td> </td>    \n",
       "</tr>\n",
       "<tr>\n",
       "  <th>Covariance Type:</th>      <td>nonrobust</td>    <th>                     </th>     <td> </td>    \n",
       "</tr>\n",
       "</table>\n",
       "<table class=\"simpletable\">\n",
       "<tr>\n",
       "      <td></td>         <th>coef</th>     <th>std err</th>      <th>t</th>      <th>P>|t|</th>  <th>[0.025</th>    <th>0.975]</th>  \n",
       "</tr>\n",
       "<tr>\n",
       "  <th>Intercept</th> <td>    0.2903</td> <td>    0.090</td> <td>    3.233</td> <td> 0.002</td> <td>    0.109</td> <td>    0.472</td>\n",
       "</tr>\n",
       "<tr>\n",
       "  <th>NO</th>        <td>    1.5597</td> <td>    0.018</td> <td>   86.126</td> <td> 0.000</td> <td>    1.523</td> <td>    1.596</td>\n",
       "</tr>\n",
       "<tr>\n",
       "  <th>NO2</th>       <td>    0.9663</td> <td>    0.011</td> <td>   90.126</td> <td> 0.000</td> <td>    0.945</td> <td>    0.988</td>\n",
       "</tr>\n",
       "</table>\n",
       "<table class=\"simpletable\">\n",
       "<tr>\n",
       "  <th>Omnibus:</th>       <td>22.654</td> <th>  Durbin-Watson:     </th> <td>   2.280</td>\n",
       "</tr>\n",
       "<tr>\n",
       "  <th>Prob(Omnibus):</th> <td> 0.000</td> <th>  Jarque-Bera (JB):  </th> <td>  61.821</td>\n",
       "</tr>\n",
       "<tr>\n",
       "  <th>Skew:</th>          <td>-1.185</td> <th>  Prob(JB):          </th> <td>3.77e-14</td>\n",
       "</tr>\n",
       "<tr>\n",
       "  <th>Kurtosis:</th>      <td> 8.375</td> <th>  Cond. No.          </th> <td>    58.0</td>\n",
       "</tr>\n",
       "</table><br/><br/>Warnings:<br/>[1] Standard Errors assume that the covariance matrix of the errors is correctly specified."
      ],
      "text/plain": [
       "<class 'statsmodels.iolib.summary.Summary'>\n",
       "\"\"\"\n",
       "                            OLS Regression Results                            \n",
       "==============================================================================\n",
       "Dep. Variable:                    NOX   R-squared:                       1.000\n",
       "Model:                            OLS   Adj. R-squared:                  1.000\n",
       "Method:                 Least Squares   F-statistic:                 9.282e+04\n",
       "Date:                Sun, 09 Feb 2020   Prob (F-statistic):           4.63e-74\n",
       "Time:                        01:27:52   Log-Likelihood:                 8.6680\n",
       "No. Observations:                  43   AIC:                            -11.34\n",
       "Df Residuals:                      40   BIC:                            -6.052\n",
       "Df Model:                           2                                         \n",
       "Covariance Type:            nonrobust                                         \n",
       "==============================================================================\n",
       "                 coef    std err          t      P>|t|      [0.025      0.975]\n",
       "------------------------------------------------------------------------------\n",
       "Intercept      0.2903      0.090      3.233      0.002       0.109       0.472\n",
       "NO             1.5597      0.018     86.126      0.000       1.523       1.596\n",
       "NO2            0.9663      0.011     90.126      0.000       0.945       0.988\n",
       "==============================================================================\n",
       "Omnibus:                       22.654   Durbin-Watson:                   2.280\n",
       "Prob(Omnibus):                  0.000   Jarque-Bera (JB):               61.821\n",
       "Skew:                          -1.185   Prob(JB):                     3.77e-14\n",
       "Kurtosis:                       8.375   Cond. No.                         58.0\n",
       "==============================================================================\n",
       "\n",
       "Warnings:\n",
       "[1] Standard Errors assume that the covariance matrix of the errors is correctly specified.\n",
       "\"\"\""
      ]
     },
     "execution_count": 30,
     "metadata": {},
     "output_type": "execute_result"
    }
   ],
   "source": [
    "lm.summary()"
   ]
  },
  {
   "cell_type": "markdown",
   "metadata": {},
   "source": [
    "**5. Ploteo del regresando versus NO$_x$ real:**"
   ]
  },
  {
   "cell_type": "code",
   "execution_count": 33,
   "metadata": {},
   "outputs": [
    {
     "name": "stderr",
     "output_type": "stream",
     "text": [
      "C:\\ProgramData\\Anaconda3\\lib\\site-packages\\ipykernel_launcher.py:2: SettingWithCopyWarning: \n",
      "A value is trying to be set on a copy of a slice from a DataFrame.\n",
      "Try using .loc[row_indexer,col_indexer] = value instead\n",
      "\n",
      "See the caveats in the documentation: http://pandas.pydata.org/pandas-docs/stable/user_guide/indexing.html#returning-a-view-versus-a-copy\n",
      "  \n"
     ]
    },
    {
     "data": {
      "image/png": "[encoded data removed]",
      "text/plain": [
       "<Figure size 432x288 with 1 Axes>"
      ]
     },
     "metadata": {
      "needs_background": "light"
     },
     "output_type": "display_data"
    }
   ],
   "source": [
    "NOX_predict = lm.predict(data[[\"NO\", \"NO2\"]])\n",
    "data[\"NOX_predict\"] = NOX_predict\n",
    "\n",
    "x = data[\"NOX\"] #todos los valores de la variable NOx\n",
    "y = data[\"NOX_predict\"] #todos los valores de la variable Nox estimada con MLRM\n",
    "\n",
    "#Calculando los coeficientes del ajuste de regresión:\n",
    "a, b = np.polyfit(x, y, 1) # 1 es el grado del polinomio\n",
    "r = np.corrcoef(x, y) # r = coeficiente de correlación\n",
    "\n",
    "plt.subplot(111)\n",
    "plt.scatter(x,y, color=\"r\", s=20)\n",
    "plt.xlabel(\"NO$_x$ (µg/$m^3$)\")\n",
    "plt.ylabel(\"NO$_x$ Predict (µg/$m^3$)\")\n",
    "plt.plot(x, a * x + b, color=\"skyblue\")\n",
    "plt.text(10,55, 'r = {0:2.2f}'.format(r[0,1]))\n",
    "#plt.text(10,55, 'NO$_x$ = {0:2.2f} NO$_x$ Predict + {1:2.3f}'.format(a,b))\n",
    "plt.savefig(\"C:/Users/heber/Desktop/CURSO_GRAFICOS_EN_PYTHON/Regresión Lineal Multiple/nox_predict.png\", dpi=300) #ruta imagen guardada\n",
    "plt.subplots_adjust(left=0.0, bottom=0.0, right=2, top=2, wspace=0.2, hspace=0.2)\n",
    "plt.show()"
   ]
  }
 ],
 "metadata": {
  "kernelspec": {
   "display_name": "Python 3",
   "language": "python",
   "name": "python3"
  },
  "language_info": {
   "codemirror_mode": {
    "name": "ipython",
    "version": 3
   },
   "file_extension": ".py",
   "mimetype": "text/x-python",
   "name": "python",
   "nbconvert_exporter": "python",
   "pygments_lexer": "ipython3",
   "version": "3.7.4"
  }
 },
 "nbformat": 4,
 "nbformat_minor": 2
}
